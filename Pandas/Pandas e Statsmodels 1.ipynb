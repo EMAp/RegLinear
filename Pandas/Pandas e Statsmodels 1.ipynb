{
 "metadata": {
  "name": "Pandas e Statsmodels 1"
 },
 "nbformat": 3,
 "nbformat_minor": 0,
 "worksheets": [
  {
   "cells": [
    {
     "cell_type": "markdown",
     "metadata": {},
     "source": [
      "Introdu\u00e7\u00e3o \u00e0 An\u00e1lise de dados com Python usando Pandas e Statsmodels\n",
      "====================================================================\n",
      "\n",
      "Parte 1\n",
      "-------\n",
      "\n",
      "**Fl\u00e1vio Code\u00e7o Coelho**\n",
      "\n",
      "O Python \u00e9 uma linguagem extremamente vers\u00e1til. Al\u00e9m da sua efici\u00eancia e produtividade como uma liguagem para programa\u00e7\u00e3o gen\u00e9rica, tem tido enorme sucesso no dom\u00ednio da an\u00e1lise interativa de dados substituindo linguagens de dom\u00ednio espec\u00edfico como Matlab e R.\n",
      "\n",
      "Neste tutorial vamos focar no uso das biliotecas Pandas e Statsmodels para demostrar a utilidade do Python em situa\u00e7\u00f5es de an\u00e1lise onde t\u00edpicamente se recomendaria o uso do R. Para isso tamb\u00e9 usaremos o Ipython, numpy, scipy, e matplotlib.\n",
      "\n",
      "Para instalar os pr\u00e9-requisitos para este tutorial certifique-se de que tem Python 2.7.x instalado, ipython, >=0.13.x, e as \u00faltimas vers\u00f5es de numpy e scipy. O Pandas e o Statsmodels podem ser instalados via *pip*\n",
      "\n",
      "    $ pip install pandas statsmodels\n",
      "\n",
      "Depois de se certificar de que tem todas estas depend\u00eancias instaladas carregue este documento no Ipython Notebook iniciado desta forma:\n",
      "\n",
      "    $ ipython notebook --pylab=inline\n",
      "\n",
      "Agora podemos come\u00e7ar. Vamos come\u00e7ar por uma introdu\u00e7\u00e3o ao Pandas."
     ]
    },
    {
     "cell_type": "code",
     "collapsed": false,
     "input": [
      "import numpy as np\n",
      "import pandas as pd"
     ],
     "language": "python",
     "metadata": {},
     "outputs": [],
     "prompt_number": 1
    },
    {
     "cell_type": "markdown",
     "metadata": {},
     "source": [
      "A principal contribui\u00e7\u00e3o do Pandas est\u00e1 nas estruturas de dados que ele oferece, que s\u00e3o especializadas para facilitar tarefas de an\u00e1lise de dados. Algumas s\u00e3o inspiradas nas estruturas dispon\u00edveis no *R* mas que v\u00e3o mais al\u00e9m em termos de funcionalidade .\n",
      "\n",
      "Vamos come\u00e7ar pelo tipo **Series**"
     ]
    },
    {
     "cell_type": "code",
     "collapsed": false,
     "input": [
      "s = pd.Series(randn(5), index=['a', 'b', 'c', 'd', 'e'])\n",
      "s"
     ],
     "language": "python",
     "metadata": {},
     "outputs": [
      {
       "output_type": "pyout",
       "prompt_number": 2,
       "text": [
        "a    0.419129\n",
        "b    0.597135\n",
        "c    0.208652\n",
        "d    1.306015\n",
        "e    0.997603"
       ]
      }
     ],
     "prompt_number": 2
    },
    {
     "cell_type": "code",
     "collapsed": false,
     "input": [
      "s.index"
     ],
     "language": "python",
     "metadata": {},
     "outputs": [
      {
       "output_type": "pyout",
       "prompt_number": 3,
       "text": [
        "Index([a, b, c, d, e], dtype=object)"
       ]
      }
     ],
     "prompt_number": 3
    },
    {
     "cell_type": "code",
     "collapsed": false,
     "input": [
      "randn = np.random.randn\n",
      "pd.Series(randn(5))"
     ],
     "language": "python",
     "metadata": {},
     "outputs": [
      {
       "output_type": "pyout",
       "prompt_number": 4,
       "text": [
        "0    0.940581\n",
        "1   -0.272707\n",
        "2   -0.499582\n",
        "3    1.599567\n",
        "4   -1.865465"
       ]
      }
     ],
     "prompt_number": 4
    },
    {
     "cell_type": "markdown",
     "metadata": {},
     "source": [
      "Objetos *Series* aceitam qualquer tipo de objeto suportado pelo Python. A etiquetas do \u00edndice tamb\u00e9m n\u00e3o precisam ser \u00fanicas. Experimente. No exemplo acima, em que um \u00edndice n\u00e3o foi especificado, os indices da lista de valores s\u00e3o utilizados por default. S\u00e9ries tamb\u00e9m podem ser criadas a partir de dicion\u00e1rios."
     ]
    },
    {
     "cell_type": "code",
     "collapsed": false,
     "input": [
      "d = {'a' : 0., 'b' : 1., 'c' : 2.}\n",
      "pd.Series(d)"
     ],
     "language": "python",
     "metadata": {},
     "outputs": [
      {
       "output_type": "pyout",
       "prompt_number": 5,
       "text": [
        "a    0\n",
        "b    1\n",
        "c    2"
       ]
      }
     ],
     "prompt_number": 5
    },
    {
     "cell_type": "code",
     "collapsed": false,
     "input": [
      "pd.Series(d, index=['b', 'c', 'd', 'a'])"
     ],
     "language": "python",
     "metadata": {},
     "outputs": [
      {
       "output_type": "pyout",
       "prompt_number": 6,
       "text": [
        "b     1\n",
        "c     2\n",
        "d   NaN\n",
        "a     0"
       ]
      }
     ],
     "prompt_number": 6
    },
    {
     "cell_type": "code",
     "collapsed": false,
     "input": [
      "pd.Series(5., index=['a', 'b', 'c', 'd', 'e'])"
     ],
     "language": "python",
     "metadata": {},
     "outputs": [
      {
       "output_type": "pyout",
       "prompt_number": 7,
       "text": [
        "a    5\n",
        "b    5\n",
        "c    5\n",
        "d    5\n",
        "e    5"
       ]
      }
     ],
     "prompt_number": 7
    },
    {
     "cell_type": "markdown",
     "metadata": {},
     "source": [
      "Uma s\u00e9rie funciona como uma array do numpy:"
     ]
    },
    {
     "cell_type": "code",
     "collapsed": false,
     "input": [
      "s[0]"
     ],
     "language": "python",
     "metadata": {},
     "outputs": [
      {
       "output_type": "pyout",
       "prompt_number": 8,
       "text": [
        "0.41912927443414827"
       ]
      }
     ],
     "prompt_number": 8
    },
    {
     "cell_type": "code",
     "collapsed": false,
     "input": [
      "s[:3]"
     ],
     "language": "python",
     "metadata": {},
     "outputs": [
      {
       "output_type": "pyout",
       "prompt_number": 9,
       "text": [
        "a    0.419129\n",
        "b    0.597135\n",
        "c    0.208652"
       ]
      }
     ],
     "prompt_number": 9
    },
    {
     "cell_type": "code",
     "collapsed": false,
     "input": [
      "s[s > s.median()]"
     ],
     "language": "python",
     "metadata": {},
     "outputs": [
      {
       "output_type": "pyout",
       "prompt_number": 10,
       "text": [
        "d    1.306015\n",
        "e    0.997603"
       ]
      }
     ],
     "prompt_number": 10
    },
    {
     "cell_type": "code",
     "collapsed": false,
     "input": [
      "s[[4, 3, 1]]"
     ],
     "language": "python",
     "metadata": {},
     "outputs": [
      {
       "output_type": "pyout",
       "prompt_number": 11,
       "text": [
        "e    0.997603\n",
        "d    1.306015\n",
        "b    0.597135"
       ]
      }
     ],
     "prompt_number": 11
    },
    {
     "cell_type": "code",
     "collapsed": false,
     "input": [
      "np.exp(s)"
     ],
     "language": "python",
     "metadata": {},
     "outputs": [
      {
       "output_type": "pyout",
       "prompt_number": 12,
       "text": [
        "a    1.520637\n",
        "b    1.816905\n",
        "c    1.232016\n",
        "d    3.691435\n",
        "e    2.711774"
       ]
      }
     ],
     "prompt_number": 12
    },
    {
     "cell_type": "markdown",
     "metadata": {},
     "source": [
      "A s\u00e9rie tamb\u00e9m funciona como um dicion\u00e1rio:"
     ]
    },
    {
     "cell_type": "code",
     "collapsed": false,
     "input": [
      "s['a']"
     ],
     "language": "python",
     "metadata": {},
     "outputs": [
      {
       "output_type": "pyout",
       "prompt_number": 13,
       "text": [
        "0.41912927443414827"
       ]
      }
     ],
     "prompt_number": 13
    },
    {
     "cell_type": "code",
     "collapsed": false,
     "input": [
      "s['e']"
     ],
     "language": "python",
     "metadata": {},
     "outputs": [
      {
       "output_type": "pyout",
       "prompt_number": 14,
       "text": [
        "0.99760320651242917"
       ]
      }
     ],
     "prompt_number": 14
    },
    {
     "cell_type": "code",
     "collapsed": false,
     "input": [
      "'e' in s"
     ],
     "language": "python",
     "metadata": {},
     "outputs": [
      {
       "output_type": "pyout",
       "prompt_number": 15,
       "text": [
        "True"
       ]
      }
     ],
     "prompt_number": 15
    },
    {
     "cell_type": "code",
     "collapsed": false,
     "input": [
      "'f' in s"
     ],
     "language": "python",
     "metadata": {},
     "outputs": [
      {
       "output_type": "pyout",
       "prompt_number": 16,
       "text": [
        "False"
       ]
      }
     ],
     "prompt_number": 16
    },
    {
     "cell_type": "code",
     "collapsed": false,
     "input": [
      "s['f']"
     ],
     "language": "python",
     "metadata": {},
     "outputs": [
      {
       "ename": "KeyError",
       "evalue": "'f'",
       "output_type": "pyerr",
       "traceback": [
        "\u001b[1;31m---------------------------------------------------------------------------\u001b[0m\n\u001b[1;31mKeyError\u001b[0m                                  Traceback (most recent call last)",
        "\u001b[1;32m<ipython-input-17-f7a405991146>\u001b[0m in \u001b[0;36m<module>\u001b[1;34m()\u001b[0m\n\u001b[1;32m----> 1\u001b[1;33m \u001b[0ms\u001b[0m\u001b[1;33m[\u001b[0m\u001b[1;34m'f'\u001b[0m\u001b[1;33m]\u001b[0m\u001b[1;33m\u001b[0m\u001b[0m\n\u001b[0m",
        "\u001b[1;32m/usr/local/lib/python2.7/dist-packages/pandas/core/series.pyc\u001b[0m in \u001b[0;36m__getitem__\u001b[1;34m(self, key)\u001b[0m\n\u001b[0;32m    429\u001b[0m     \u001b[1;32mdef\u001b[0m \u001b[0m__getitem__\u001b[0m\u001b[1;33m(\u001b[0m\u001b[0mself\u001b[0m\u001b[1;33m,\u001b[0m \u001b[0mkey\u001b[0m\u001b[1;33m)\u001b[0m\u001b[1;33m:\u001b[0m\u001b[1;33m\u001b[0m\u001b[0m\n\u001b[0;32m    430\u001b[0m         \u001b[1;32mtry\u001b[0m\u001b[1;33m:\u001b[0m\u001b[1;33m\u001b[0m\u001b[0m\n\u001b[1;32m--> 431\u001b[1;33m             \u001b[1;32mreturn\u001b[0m \u001b[0mself\u001b[0m\u001b[1;33m.\u001b[0m\u001b[0mindex\u001b[0m\u001b[1;33m.\u001b[0m\u001b[0mget_value\u001b[0m\u001b[1;33m(\u001b[0m\u001b[0mself\u001b[0m\u001b[1;33m,\u001b[0m \u001b[0mkey\u001b[0m\u001b[1;33m)\u001b[0m\u001b[1;33m\u001b[0m\u001b[0m\n\u001b[0m\u001b[0;32m    432\u001b[0m         \u001b[1;32mexcept\u001b[0m \u001b[0mInvalidIndexError\u001b[0m\u001b[1;33m:\u001b[0m\u001b[1;33m\u001b[0m\u001b[0m\n\u001b[0;32m    433\u001b[0m             \u001b[1;32mpass\u001b[0m\u001b[1;33m\u001b[0m\u001b[0m\n",
        "\u001b[1;32m/usr/local/lib/python2.7/dist-packages/pandas/core/index.pyc\u001b[0m in \u001b[0;36mget_value\u001b[1;34m(self, series, key)\u001b[0m\n\u001b[0;32m    667\u001b[0m                     \u001b[1;32mraise\u001b[0m \u001b[0mInvalidIndexError\u001b[0m\u001b[1;33m(\u001b[0m\u001b[0mkey\u001b[0m\u001b[1;33m)\u001b[0m\u001b[1;33m\u001b[0m\u001b[0m\n\u001b[0;32m    668\u001b[0m                 \u001b[1;32melse\u001b[0m\u001b[1;33m:\u001b[0m\u001b[1;33m\u001b[0m\u001b[0m\n\u001b[1;32m--> 669\u001b[1;33m                     \u001b[1;32mraise\u001b[0m \u001b[0me1\u001b[0m\u001b[1;33m\u001b[0m\u001b[0m\n\u001b[0m\u001b[0;32m    670\u001b[0m             \u001b[1;32mexcept\u001b[0m \u001b[0mException\u001b[0m\u001b[1;33m:\u001b[0m  \u001b[1;31m# pragma: no cover\u001b[0m\u001b[1;33m\u001b[0m\u001b[0m\n\u001b[0;32m    671\u001b[0m                 \u001b[1;32mraise\u001b[0m \u001b[0me1\u001b[0m\u001b[1;33m\u001b[0m\u001b[0m\n",
        "\u001b[1;31mKeyError\u001b[0m: 'f'"
       ]
      }
     ],
     "prompt_number": 17
    },
    {
     "cell_type": "code",
     "collapsed": false,
     "input": [
      "s.get('f') #retorna NaN"
     ],
     "language": "python",
     "metadata": {},
     "outputs": []
    },
    {
     "cell_type": "heading",
     "level": 3,
     "metadata": {},
     "source": [
      "Opera\u00e7\u00f5es vetorizadas\n"
     ]
    },
    {
     "cell_type": "code",
     "collapsed": false,
     "input": [
      "s+s"
     ],
     "language": "python",
     "metadata": {},
     "outputs": [
      {
       "output_type": "pyout",
       "prompt_number": 18,
       "text": [
        "a    0.838259\n",
        "b    1.194269\n",
        "c    0.417304\n",
        "d    2.612030\n",
        "e    1.995206"
       ]
      }
     ],
     "prompt_number": 18
    },
    {
     "cell_type": "code",
     "collapsed": false,
     "input": [
      "s+2"
     ],
     "language": "python",
     "metadata": {},
     "outputs": [
      {
       "output_type": "pyout",
       "prompt_number": 19,
       "text": [
        "a    2.419129\n",
        "b    2.597135\n",
        "c    2.208652\n",
        "d    3.306015\n",
        "e    2.997603"
       ]
      }
     ],
     "prompt_number": 19
    },
    {
     "cell_type": "markdown",
     "metadata": {},
     "source": [
      "Quando operamos com duas ou mais s\u00e9ries, as opera\u00e7\u00f5es s\u00e3o alinhadas pelas etiquetas:"
     ]
    },
    {
     "cell_type": "code",
     "collapsed": false,
     "input": [
      "s[1:] + s[:-1]"
     ],
     "language": "python",
     "metadata": {},
     "outputs": [
      {
       "output_type": "pyout",
       "prompt_number": 20,
       "text": [
        "a         NaN\n",
        "b    1.194269\n",
        "c    0.417304\n",
        "d    2.612030\n",
        "e         NaN"
       ]
      }
     ],
     "prompt_number": 20
    },
    {
     "cell_type": "heading",
     "level": 3,
     "metadata": {},
     "source": [
      "Nomeando uma s\u00e9rie"
     ]
    },
    {
     "cell_type": "code",
     "collapsed": false,
     "input": [
      "s = pd.Series(randn(5), name='something')\n",
      "s"
     ],
     "language": "python",
     "metadata": {},
     "outputs": [
      {
       "output_type": "pyout",
       "prompt_number": 21,
       "text": [
        "0    0.142065\n",
        "1    0.150485\n",
        "2    1.483217\n",
        "3    1.824933\n",
        "4    1.839221\n",
        "Name: something"
       ]
      }
     ],
     "prompt_number": 21
    },
    {
     "cell_type": "code",
     "collapsed": false,
     "input": [
      "s.name"
     ],
     "language": "python",
     "metadata": {},
     "outputs": [
      {
       "output_type": "pyout",
       "prompt_number": 22,
       "text": [
        "'something'"
       ]
      }
     ],
     "prompt_number": 22
    },
    {
     "cell_type": "heading",
     "level": 2,
     "metadata": {},
     "source": [
      "Dataframe"
     ]
    },
    {
     "cell_type": "markdown",
     "metadata": {},
     "source": [
      "O Dataframe \u00e9 uma estrutura bi-dimensional, inspirada na estrutura de mesmo nome dispon\u00edvel na linguagem *R*. Pode ser imaginada como uma planilha ou tabela de banco de dados, ou ainda um dicion\u00e1rio contendo s\u00e9ries."
     ]
    },
    {
     "cell_type": "heading",
     "level": 3,
     "metadata": {},
     "source": [
      "Construindo um Dataframe a partir de um dicion\u00e1rio de s\u00e9ries"
     ]
    },
    {
     "cell_type": "code",
     "collapsed": false,
     "input": [
      "d = {'one' : pd.Series([1., 2., 3.], index=['a', 'b', 'c']),\n",
      "     'two' : pd.Series([1., 2., 3., 4.], index=['a', 'b', 'c', 'd'])}\n",
      "df = pd.DataFrame(d)\n",
      "df"
     ],
     "language": "python",
     "metadata": {},
     "outputs": [
      {
       "html": [
        "<div style=\"max-height:1000px;max-width:1500px;overflow:auto;\">\n",
        "<table border=\"1\">\n",
        "  <thead>\n",
        "    <tr>\n",
        "      <th></th>\n",
        "      <th>one</th>\n",
        "      <th>two</th>\n",
        "    </tr>\n",
        "  </thead>\n",
        "  <tbody>\n",
        "    <tr>\n",
        "      <td><strong>a</strong></td>\n",
        "      <td>  1</td>\n",
        "      <td> 1</td>\n",
        "    </tr>\n",
        "    <tr>\n",
        "      <td><strong>b</strong></td>\n",
        "      <td>  2</td>\n",
        "      <td> 2</td>\n",
        "    </tr>\n",
        "    <tr>\n",
        "      <td><strong>c</strong></td>\n",
        "      <td>  3</td>\n",
        "      <td> 3</td>\n",
        "    </tr>\n",
        "    <tr>\n",
        "      <td><strong>d</strong></td>\n",
        "      <td>NaN</td>\n",
        "      <td> 4</td>\n",
        "    </tr>\n",
        "  </tbody>\n",
        "</table>\n",
        "</div>"
       ],
       "output_type": "pyout",
       "prompt_number": 23,
       "text": [
        "   one  two\n",
        "a    1    1\n",
        "b    2    2\n",
        "c    3    3\n",
        "d  NaN    4"
       ]
      }
     ],
     "prompt_number": 23
    },
    {
     "cell_type": "code",
     "collapsed": false,
     "input": [
      "pd.DataFrame(d, index=['d', 'b', 'a'])"
     ],
     "language": "python",
     "metadata": {},
     "outputs": [
      {
       "html": [
        "<div style=\"max-height:1000px;max-width:1500px;overflow:auto;\">\n",
        "<table border=\"1\">\n",
        "  <thead>\n",
        "    <tr>\n",
        "      <th></th>\n",
        "      <th>one</th>\n",
        "      <th>two</th>\n",
        "    </tr>\n",
        "  </thead>\n",
        "  <tbody>\n",
        "    <tr>\n",
        "      <td><strong>d</strong></td>\n",
        "      <td>NaN</td>\n",
        "      <td> 4</td>\n",
        "    </tr>\n",
        "    <tr>\n",
        "      <td><strong>b</strong></td>\n",
        "      <td>  2</td>\n",
        "      <td> 2</td>\n",
        "    </tr>\n",
        "    <tr>\n",
        "      <td><strong>a</strong></td>\n",
        "      <td>  1</td>\n",
        "      <td> 1</td>\n",
        "    </tr>\n",
        "  </tbody>\n",
        "</table>\n",
        "</div>"
       ],
       "output_type": "pyout",
       "prompt_number": 24,
       "text": [
        "   one  two\n",
        "d  NaN    4\n",
        "b    2    2\n",
        "a    1    1"
       ]
      }
     ],
     "prompt_number": 24
    },
    {
     "cell_type": "code",
     "collapsed": false,
     "input": [
      "pd.DataFrame(d, index=['d', 'b', 'a'], columns=['two', 'three'])"
     ],
     "language": "python",
     "metadata": {},
     "outputs": [
      {
       "html": [
        "<div style=\"max-height:1000px;max-width:1500px;overflow:auto;\">\n",
        "<table border=\"1\">\n",
        "  <thead>\n",
        "    <tr>\n",
        "      <th></th>\n",
        "      <th>two</th>\n",
        "      <th>three</th>\n",
        "    </tr>\n",
        "  </thead>\n",
        "  <tbody>\n",
        "    <tr>\n",
        "      <td><strong>d</strong></td>\n",
        "      <td> 4</td>\n",
        "      <td>NaN</td>\n",
        "    </tr>\n",
        "    <tr>\n",
        "      <td><strong>b</strong></td>\n",
        "      <td> 2</td>\n",
        "      <td>NaN</td>\n",
        "    </tr>\n",
        "    <tr>\n",
        "      <td><strong>a</strong></td>\n",
        "      <td> 1</td>\n",
        "      <td>NaN</td>\n",
        "    </tr>\n",
        "  </tbody>\n",
        "</table>\n",
        "</div>"
       ],
       "output_type": "pyout",
       "prompt_number": 25,
       "text": [
        "   two  three\n",
        "d    4    NaN\n",
        "b    2    NaN\n",
        "a    1    NaN"
       ]
      }
     ],
     "prompt_number": 25
    },
    {
     "cell_type": "code",
     "collapsed": false,
     "input": [
      "df.index"
     ],
     "language": "python",
     "metadata": {},
     "outputs": [
      {
       "output_type": "pyout",
       "prompt_number": 26,
       "text": [
        "Index([a, b, c, d], dtype=object)"
       ]
      }
     ],
     "prompt_number": 26
    },
    {
     "cell_type": "code",
     "collapsed": false,
     "input": [
      "df.columns"
     ],
     "language": "python",
     "metadata": {},
     "outputs": [
      {
       "output_type": "pyout",
       "prompt_number": 27,
       "text": [
        "Index([one, two], dtype=object)"
       ]
      }
     ],
     "prompt_number": 27
    },
    {
     "cell_type": "heading",
     "level": 3,
     "metadata": {},
     "source": [
      "Construindo um Dataframe a partir de um dicion\u00e1rio de listas ou arrays"
     ]
    },
    {
     "cell_type": "code",
     "collapsed": false,
     "input": [
      "d = {'one' : [1., 2., 3., 4.],\n",
      "     'two' : [4., 3., 2., 1.]}\n",
      "pd.DataFrame(d)"
     ],
     "language": "python",
     "metadata": {},
     "outputs": [
      {
       "html": [
        "<div style=\"max-height:1000px;max-width:1500px;overflow:auto;\">\n",
        "<table border=\"1\">\n",
        "  <thead>\n",
        "    <tr>\n",
        "      <th></th>\n",
        "      <th>one</th>\n",
        "      <th>two</th>\n",
        "    </tr>\n",
        "  </thead>\n",
        "  <tbody>\n",
        "    <tr>\n",
        "      <td><strong>0</strong></td>\n",
        "      <td> 1</td>\n",
        "      <td> 4</td>\n",
        "    </tr>\n",
        "    <tr>\n",
        "      <td><strong>1</strong></td>\n",
        "      <td> 2</td>\n",
        "      <td> 3</td>\n",
        "    </tr>\n",
        "    <tr>\n",
        "      <td><strong>2</strong></td>\n",
        "      <td> 3</td>\n",
        "      <td> 2</td>\n",
        "    </tr>\n",
        "    <tr>\n",
        "      <td><strong>3</strong></td>\n",
        "      <td> 4</td>\n",
        "      <td> 1</td>\n",
        "    </tr>\n",
        "  </tbody>\n",
        "</table>\n",
        "</div>"
       ],
       "output_type": "pyout",
       "prompt_number": 28,
       "text": [
        "   one  two\n",
        "0    1    4\n",
        "1    2    3\n",
        "2    3    2\n",
        "3    4    1"
       ]
      }
     ],
     "prompt_number": 28
    },
    {
     "cell_type": "heading",
     "level": 3,
     "metadata": {},
     "source": [
      "Construindo um Dataframe a partir de um dicion\u00e1rio de structured ou record arrays"
     ]
    },
    {
     "cell_type": "code",
     "collapsed": false,
     "input": [
      "data = np.zeros((2,),dtype=[('A', 'i4'),('B', 'f4'),('C', 'a10')])"
     ],
     "language": "python",
     "metadata": {},
     "outputs": [],
     "prompt_number": 29
    },
    {
     "cell_type": "code",
     "collapsed": false,
     "input": [
      "data[:] = [(1,2.,'Hello'),(2,3.,\"World\")]"
     ],
     "language": "python",
     "metadata": {},
     "outputs": [],
     "prompt_number": 30
    },
    {
     "cell_type": "code",
     "collapsed": false,
     "input": [
      "pd.DataFrame(data)"
     ],
     "language": "python",
     "metadata": {},
     "outputs": [
      {
       "html": [
        "<div style=\"max-height:1000px;max-width:1500px;overflow:auto;\">\n",
        "<table border=\"1\">\n",
        "  <thead>\n",
        "    <tr>\n",
        "      <th></th>\n",
        "      <th>A</th>\n",
        "      <th>B</th>\n",
        "      <th>C</th>\n",
        "    </tr>\n",
        "  </thead>\n",
        "  <tbody>\n",
        "    <tr>\n",
        "      <td><strong>0</strong></td>\n",
        "      <td> 1</td>\n",
        "      <td> 2</td>\n",
        "      <td> Hello</td>\n",
        "    </tr>\n",
        "    <tr>\n",
        "      <td><strong>1</strong></td>\n",
        "      <td> 2</td>\n",
        "      <td> 3</td>\n",
        "      <td> World</td>\n",
        "    </tr>\n",
        "  </tbody>\n",
        "</table>\n",
        "</div>"
       ],
       "output_type": "pyout",
       "prompt_number": 31,
       "text": [
        "   A  B      C\n",
        "0  1  2  Hello\n",
        "1  2  3  World"
       ]
      }
     ],
     "prompt_number": 31
    },
    {
     "cell_type": "code",
     "collapsed": false,
     "input": [
      "pd.DataFrame(data, index=['first', 'second'])"
     ],
     "language": "python",
     "metadata": {},
     "outputs": [
      {
       "html": [
        "<div style=\"max-height:1000px;max-width:1500px;overflow:auto;\">\n",
        "<table border=\"1\">\n",
        "  <thead>\n",
        "    <tr>\n",
        "      <th></th>\n",
        "      <th>A</th>\n",
        "      <th>B</th>\n",
        "      <th>C</th>\n",
        "    </tr>\n",
        "  </thead>\n",
        "  <tbody>\n",
        "    <tr>\n",
        "      <td><strong>first</strong></td>\n",
        "      <td> 1</td>\n",
        "      <td> 2</td>\n",
        "      <td> Hello</td>\n",
        "    </tr>\n",
        "    <tr>\n",
        "      <td><strong>second</strong></td>\n",
        "      <td> 2</td>\n",
        "      <td> 3</td>\n",
        "      <td> World</td>\n",
        "    </tr>\n",
        "  </tbody>\n",
        "</table>\n",
        "</div>"
       ],
       "output_type": "pyout",
       "prompt_number": 32,
       "text": [
        "        A  B      C\n",
        "first   1  2  Hello\n",
        "second  2  3  World"
       ]
      }
     ],
     "prompt_number": 32
    },
    {
     "cell_type": "code",
     "collapsed": false,
     "input": [
      "pd.DataFrame(data, columns=['C', 'A', 'B'])"
     ],
     "language": "python",
     "metadata": {},
     "outputs": [
      {
       "html": [
        "<div style=\"max-height:1000px;max-width:1500px;overflow:auto;\">\n",
        "<table border=\"1\">\n",
        "  <thead>\n",
        "    <tr>\n",
        "      <th></th>\n",
        "      <th>C</th>\n",
        "      <th>A</th>\n",
        "      <th>B</th>\n",
        "    </tr>\n",
        "  </thead>\n",
        "  <tbody>\n",
        "    <tr>\n",
        "      <td><strong>0</strong></td>\n",
        "      <td> Hello</td>\n",
        "      <td> 1</td>\n",
        "      <td> 2</td>\n",
        "    </tr>\n",
        "    <tr>\n",
        "      <td><strong>1</strong></td>\n",
        "      <td> World</td>\n",
        "      <td> 2</td>\n",
        "      <td> 3</td>\n",
        "    </tr>\n",
        "  </tbody>\n",
        "</table>\n",
        "</div>"
       ],
       "output_type": "pyout",
       "prompt_number": 33,
       "text": [
        "       C  A  B\n",
        "0  Hello  1  2\n",
        "1  World  2  3"
       ]
      }
     ],
     "prompt_number": 33
    },
    {
     "cell_type": "heading",
     "level": 3,
     "metadata": {},
     "source": [
      "Construindo um Dataframe a partir de um dicion\u00e1rio"
     ]
    },
    {
     "cell_type": "code",
     "collapsed": false,
     "input": [
      "data2 = [{'a': 1, 'b': 2}, {'a': 5, 'b': 10, 'c': 20}]\n",
      "pd.DataFrame(data2)"
     ],
     "language": "python",
     "metadata": {},
     "outputs": [
      {
       "html": [
        "<div style=\"max-height:1000px;max-width:1500px;overflow:auto;\">\n",
        "<table border=\"1\">\n",
        "  <thead>\n",
        "    <tr>\n",
        "      <th></th>\n",
        "      <th>a</th>\n",
        "      <th>b</th>\n",
        "      <th>c</th>\n",
        "    </tr>\n",
        "  </thead>\n",
        "  <tbody>\n",
        "    <tr>\n",
        "      <td><strong>0</strong></td>\n",
        "      <td> 1</td>\n",
        "      <td>  2</td>\n",
        "      <td>NaN</td>\n",
        "    </tr>\n",
        "    <tr>\n",
        "      <td><strong>1</strong></td>\n",
        "      <td> 5</td>\n",
        "      <td> 10</td>\n",
        "      <td> 20</td>\n",
        "    </tr>\n",
        "  </tbody>\n",
        "</table>\n",
        "</div>"
       ],
       "output_type": "pyout",
       "prompt_number": 34,
       "text": [
        "   a   b   c\n",
        "0  1   2 NaN\n",
        "1  5  10  20"
       ]
      }
     ],
     "prompt_number": 34
    },
    {
     "cell_type": "code",
     "collapsed": false,
     "input": [
      "pd.DataFrame(data2, index=['first', 'second'])"
     ],
     "language": "python",
     "metadata": {},
     "outputs": [
      {
       "html": [
        "<div style=\"max-height:1000px;max-width:1500px;overflow:auto;\">\n",
        "<table border=\"1\">\n",
        "  <thead>\n",
        "    <tr>\n",
        "      <th></th>\n",
        "      <th>a</th>\n",
        "      <th>b</th>\n",
        "      <th>c</th>\n",
        "    </tr>\n",
        "  </thead>\n",
        "  <tbody>\n",
        "    <tr>\n",
        "      <td><strong>first</strong></td>\n",
        "      <td> 1</td>\n",
        "      <td>  2</td>\n",
        "      <td>NaN</td>\n",
        "    </tr>\n",
        "    <tr>\n",
        "      <td><strong>second</strong></td>\n",
        "      <td> 5</td>\n",
        "      <td> 10</td>\n",
        "      <td> 20</td>\n",
        "    </tr>\n",
        "  </tbody>\n",
        "</table>\n",
        "</div>"
       ],
       "output_type": "pyout",
       "prompt_number": 35,
       "text": [
        "        a   b   c\n",
        "first   1   2 NaN\n",
        "second  5  10  20"
       ]
      }
     ],
     "prompt_number": 35
    },
    {
     "cell_type": "code",
     "collapsed": false,
     "input": [
      "pd.DataFrame(data2, columns=['a', 'b'])"
     ],
     "language": "python",
     "metadata": {},
     "outputs": [
      {
       "html": [
        "<div style=\"max-height:1000px;max-width:1500px;overflow:auto;\">\n",
        "<table border=\"1\">\n",
        "  <thead>\n",
        "    <tr>\n",
        "      <th></th>\n",
        "      <th>a</th>\n",
        "      <th>b</th>\n",
        "    </tr>\n",
        "  </thead>\n",
        "  <tbody>\n",
        "    <tr>\n",
        "      <td><strong>0</strong></td>\n",
        "      <td> 1</td>\n",
        "      <td>  2</td>\n",
        "    </tr>\n",
        "    <tr>\n",
        "      <td><strong>1</strong></td>\n",
        "      <td> 5</td>\n",
        "      <td> 10</td>\n",
        "    </tr>\n",
        "  </tbody>\n",
        "</table>\n",
        "</div>"
       ],
       "output_type": "pyout",
       "prompt_number": 36,
       "text": [
        "   a   b\n",
        "0  1   2\n",
        "1  5  10"
       ]
      }
     ],
     "prompt_number": 36
    },
    {
     "cell_type": "heading",
     "level": 3,
     "metadata": {},
     "source": [
      "Selecionando, adicionando e apagando colunas"
     ]
    },
    {
     "cell_type": "code",
     "collapsed": false,
     "input": [
      "df['one']"
     ],
     "language": "python",
     "metadata": {},
     "outputs": [
      {
       "output_type": "pyout",
       "prompt_number": 37,
       "text": [
        "a     1\n",
        "b     2\n",
        "c     3\n",
        "d   NaN\n",
        "Name: one"
       ]
      }
     ],
     "prompt_number": 37
    },
    {
     "cell_type": "code",
     "collapsed": false,
     "input": [
      "df['three'] = df['one'] * df['two']"
     ],
     "language": "python",
     "metadata": {},
     "outputs": [],
     "prompt_number": 38
    },
    {
     "cell_type": "code",
     "collapsed": false,
     "input": [
      "df['flag'] = df['one'] > 2"
     ],
     "language": "python",
     "metadata": {},
     "outputs": [],
     "prompt_number": 39
    },
    {
     "cell_type": "code",
     "collapsed": false,
     "input": [
      "df"
     ],
     "language": "python",
     "metadata": {},
     "outputs": [
      {
       "html": [
        "<div style=\"max-height:1000px;max-width:1500px;overflow:auto;\">\n",
        "<table border=\"1\">\n",
        "  <thead>\n",
        "    <tr>\n",
        "      <th></th>\n",
        "      <th>one</th>\n",
        "      <th>two</th>\n",
        "      <th>three</th>\n",
        "      <th>flag</th>\n",
        "    </tr>\n",
        "  </thead>\n",
        "  <tbody>\n",
        "    <tr>\n",
        "      <td><strong>a</strong></td>\n",
        "      <td>  1</td>\n",
        "      <td> 1</td>\n",
        "      <td>  1</td>\n",
        "      <td> False</td>\n",
        "    </tr>\n",
        "    <tr>\n",
        "      <td><strong>b</strong></td>\n",
        "      <td>  2</td>\n",
        "      <td> 2</td>\n",
        "      <td>  4</td>\n",
        "      <td> False</td>\n",
        "    </tr>\n",
        "    <tr>\n",
        "      <td><strong>c</strong></td>\n",
        "      <td>  3</td>\n",
        "      <td> 3</td>\n",
        "      <td>  9</td>\n",
        "      <td>  True</td>\n",
        "    </tr>\n",
        "    <tr>\n",
        "      <td><strong>d</strong></td>\n",
        "      <td>NaN</td>\n",
        "      <td> 4</td>\n",
        "      <td>NaN</td>\n",
        "      <td> False</td>\n",
        "    </tr>\n",
        "  </tbody>\n",
        "</table>\n",
        "</div>"
       ],
       "output_type": "pyout",
       "prompt_number": 40,
       "text": [
        "   one  two  three   flag\n",
        "a    1    1      1  False\n",
        "b    2    2      4  False\n",
        "c    3    3      9   True\n",
        "d  NaN    4    NaN  False"
       ]
      }
     ],
     "prompt_number": 40
    },
    {
     "cell_type": "code",
     "collapsed": false,
     "input": [
      "del df['two']"
     ],
     "language": "python",
     "metadata": {},
     "outputs": [],
     "prompt_number": 41
    },
    {
     "cell_type": "code",
     "collapsed": false,
     "input": [
      "three = df.pop('three')"
     ],
     "language": "python",
     "metadata": {},
     "outputs": [],
     "prompt_number": 42
    },
    {
     "cell_type": "code",
     "collapsed": false,
     "input": [
      "df"
     ],
     "language": "python",
     "metadata": {},
     "outputs": [
      {
       "html": [
        "<div style=\"max-height:1000px;max-width:1500px;overflow:auto;\">\n",
        "<table border=\"1\">\n",
        "  <thead>\n",
        "    <tr>\n",
        "      <th></th>\n",
        "      <th>one</th>\n",
        "      <th>flag</th>\n",
        "    </tr>\n",
        "  </thead>\n",
        "  <tbody>\n",
        "    <tr>\n",
        "      <td><strong>a</strong></td>\n",
        "      <td>  1</td>\n",
        "      <td> False</td>\n",
        "    </tr>\n",
        "    <tr>\n",
        "      <td><strong>b</strong></td>\n",
        "      <td>  2</td>\n",
        "      <td> False</td>\n",
        "    </tr>\n",
        "    <tr>\n",
        "      <td><strong>c</strong></td>\n",
        "      <td>  3</td>\n",
        "      <td>  True</td>\n",
        "    </tr>\n",
        "    <tr>\n",
        "      <td><strong>d</strong></td>\n",
        "      <td>NaN</td>\n",
        "      <td> False</td>\n",
        "    </tr>\n",
        "  </tbody>\n",
        "</table>\n",
        "</div>"
       ],
       "output_type": "pyout",
       "prompt_number": 43,
       "text": [
        "   one   flag\n",
        "a    1  False\n",
        "b    2  False\n",
        "c    3   True\n",
        "d  NaN  False"
       ]
      }
     ],
     "prompt_number": 43
    },
    {
     "cell_type": "markdown",
     "metadata": {},
     "source": [
      "Ao inserir um \"escalar\" ele \u00e9 naturalmente propagado para preencher a coluna"
     ]
    },
    {
     "cell_type": "code",
     "collapsed": false,
     "input": [
      "df['foo'] = 'bar'\n",
      "df"
     ],
     "language": "python",
     "metadata": {},
     "outputs": [
      {
       "html": [
        "<div style=\"max-height:1000px;max-width:1500px;overflow:auto;\">\n",
        "<table border=\"1\">\n",
        "  <thead>\n",
        "    <tr>\n",
        "      <th></th>\n",
        "      <th>one</th>\n",
        "      <th>flag</th>\n",
        "      <th>foo</th>\n",
        "    </tr>\n",
        "  </thead>\n",
        "  <tbody>\n",
        "    <tr>\n",
        "      <td><strong>a</strong></td>\n",
        "      <td>  1</td>\n",
        "      <td> False</td>\n",
        "      <td> bar</td>\n",
        "    </tr>\n",
        "    <tr>\n",
        "      <td><strong>b</strong></td>\n",
        "      <td>  2</td>\n",
        "      <td> False</td>\n",
        "      <td> bar</td>\n",
        "    </tr>\n",
        "    <tr>\n",
        "      <td><strong>c</strong></td>\n",
        "      <td>  3</td>\n",
        "      <td>  True</td>\n",
        "      <td> bar</td>\n",
        "    </tr>\n",
        "    <tr>\n",
        "      <td><strong>d</strong></td>\n",
        "      <td>NaN</td>\n",
        "      <td> False</td>\n",
        "      <td> bar</td>\n",
        "    </tr>\n",
        "  </tbody>\n",
        "</table>\n",
        "</div>"
       ],
       "output_type": "pyout",
       "prompt_number": 44,
       "text": [
        "   one   flag  foo\n",
        "a    1  False  bar\n",
        "b    2  False  bar\n",
        "c    3   True  bar\n",
        "d  NaN  False  bar"
       ]
      }
     ],
     "prompt_number": 44
    },
    {
     "cell_type": "markdown",
     "metadata": {},
     "source": [
      "Ao inserir uma columa que n\u00e3o t\u00eam o mesmo \u00edndice que o dataframe, os valores correspondentes ser\u00e3o  acomodados."
     ]
    },
    {
     "cell_type": "code",
     "collapsed": false,
     "input": [
      "df['one_trunc'] = df['one'][:2]"
     ],
     "language": "python",
     "metadata": {},
     "outputs": [],
     "prompt_number": 45
    },
    {
     "cell_type": "code",
     "collapsed": false,
     "input": [
      "df"
     ],
     "language": "python",
     "metadata": {},
     "outputs": [
      {
       "html": [
        "<div style=\"max-height:1000px;max-width:1500px;overflow:auto;\">\n",
        "<table border=\"1\">\n",
        "  <thead>\n",
        "    <tr>\n",
        "      <th></th>\n",
        "      <th>one</th>\n",
        "      <th>flag</th>\n",
        "      <th>foo</th>\n",
        "      <th>one_trunc</th>\n",
        "    </tr>\n",
        "  </thead>\n",
        "  <tbody>\n",
        "    <tr>\n",
        "      <td><strong>a</strong></td>\n",
        "      <td>  1</td>\n",
        "      <td> False</td>\n",
        "      <td> bar</td>\n",
        "      <td>  1</td>\n",
        "    </tr>\n",
        "    <tr>\n",
        "      <td><strong>b</strong></td>\n",
        "      <td>  2</td>\n",
        "      <td> False</td>\n",
        "      <td> bar</td>\n",
        "      <td>  2</td>\n",
        "    </tr>\n",
        "    <tr>\n",
        "      <td><strong>c</strong></td>\n",
        "      <td>  3</td>\n",
        "      <td>  True</td>\n",
        "      <td> bar</td>\n",
        "      <td>NaN</td>\n",
        "    </tr>\n",
        "    <tr>\n",
        "      <td><strong>d</strong></td>\n",
        "      <td>NaN</td>\n",
        "      <td> False</td>\n",
        "      <td> bar</td>\n",
        "      <td>NaN</td>\n",
        "    </tr>\n",
        "  </tbody>\n",
        "</table>\n",
        "</div>"
       ],
       "output_type": "pyout",
       "prompt_number": 46,
       "text": [
        "   one   flag  foo  one_trunc\n",
        "a    1  False  bar          1\n",
        "b    2  False  bar          2\n",
        "c    3   True  bar        NaN\n",
        "d  NaN  False  bar        NaN"
       ]
      }
     ],
     "prompt_number": 46
    },
    {
     "cell_type": "markdown",
     "metadata": {},
     "source": [
      "Arrays comuns (sem \u00edndice) podem ser inseridos tamb\u00e9m desde que o seu comprimento seja o mesmo do Dataframe.\n",
      "\n",
      "O m\u00e9todo *insert* tamb\u00e9m pode ser utilizado para inserir uma coluna em uma posi\u00e7\u00e3o espec\u00edfica do Dataframe. O default seria ao final (direita), como no exemplo acima."
     ]
    },
    {
     "cell_type": "code",
     "collapsed": false,
     "input": [
      "df.insert(1, 'bar', df['one'])\n",
      "df"
     ],
     "language": "python",
     "metadata": {},
     "outputs": [
      {
       "html": [
        "<div style=\"max-height:1000px;max-width:1500px;overflow:auto;\">\n",
        "<table border=\"1\">\n",
        "  <thead>\n",
        "    <tr>\n",
        "      <th></th>\n",
        "      <th>one</th>\n",
        "      <th>bar</th>\n",
        "      <th>flag</th>\n",
        "      <th>foo</th>\n",
        "      <th>one_trunc</th>\n",
        "    </tr>\n",
        "  </thead>\n",
        "  <tbody>\n",
        "    <tr>\n",
        "      <td><strong>a</strong></td>\n",
        "      <td>  1</td>\n",
        "      <td>  1</td>\n",
        "      <td> False</td>\n",
        "      <td> bar</td>\n",
        "      <td>  1</td>\n",
        "    </tr>\n",
        "    <tr>\n",
        "      <td><strong>b</strong></td>\n",
        "      <td>  2</td>\n",
        "      <td>  2</td>\n",
        "      <td> False</td>\n",
        "      <td> bar</td>\n",
        "      <td>  2</td>\n",
        "    </tr>\n",
        "    <tr>\n",
        "      <td><strong>c</strong></td>\n",
        "      <td>  3</td>\n",
        "      <td>  3</td>\n",
        "      <td>  True</td>\n",
        "      <td> bar</td>\n",
        "      <td>NaN</td>\n",
        "    </tr>\n",
        "    <tr>\n",
        "      <td><strong>d</strong></td>\n",
        "      <td>NaN</td>\n",
        "      <td>NaN</td>\n",
        "      <td> False</td>\n",
        "      <td> bar</td>\n",
        "      <td>NaN</td>\n",
        "    </tr>\n",
        "  </tbody>\n",
        "</table>\n",
        "</div>"
       ],
       "output_type": "pyout",
       "prompt_number": 47,
       "text": [
        "   one  bar   flag  foo  one_trunc\n",
        "a    1    1  False  bar          1\n",
        "b    2    2  False  bar          2\n",
        "c    3    3   True  bar        NaN\n",
        "d  NaN  NaN  False  bar        NaN"
       ]
      }
     ],
     "prompt_number": 47
    },
    {
     "cell_type": "markdown",
     "metadata": {},
     "source": [
      "Selecionando uma coluna"
     ]
    },
    {
     "cell_type": "code",
     "collapsed": false,
     "input": [
      "df['bar'] #Retorna uma s\u00e9rie"
     ],
     "language": "python",
     "metadata": {},
     "outputs": [
      {
       "output_type": "pyout",
       "prompt_number": 48,
       "text": [
        "a     1\n",
        "b     2\n",
        "c     3\n",
        "d   NaN\n",
        "Name: bar"
       ]
      }
     ],
     "prompt_number": 48
    },
    {
     "cell_type": "markdown",
     "metadata": {},
     "source": [
      "Linhas individuais podem ser selecionadas pelo r\u00f3tulo ou pela posi\u00e7\u00e3o (inteiro), retornando uma s\u00e9rie."
     ]
    },
    {
     "cell_type": "code",
     "collapsed": false,
     "input": [
      "df.xs('b')"
     ],
     "language": "python",
     "metadata": {},
     "outputs": [
      {
       "output_type": "pyout",
       "prompt_number": 49,
       "text": [
        "one              2\n",
        "bar              2\n",
        "flag         False\n",
        "foo            bar\n",
        "one_trunc        2\n",
        "Name: b"
       ]
      }
     ],
     "prompt_number": 49
    },
    {
     "cell_type": "code",
     "collapsed": false,
     "input": [
      "df.ix['b']"
     ],
     "language": "python",
     "metadata": {},
     "outputs": [
      {
       "output_type": "pyout",
       "prompt_number": 50,
       "text": [
        "one              2\n",
        "bar              2\n",
        "flag         False\n",
        "foo            bar\n",
        "one_trunc        2\n",
        "Name: b"
       ]
      }
     ],
     "prompt_number": 50
    },
    {
     "cell_type": "code",
     "collapsed": false,
     "input": [
      "df.ix[2]"
     ],
     "language": "python",
     "metadata": {},
     "outputs": [
      {
       "output_type": "pyout",
       "prompt_number": 51,
       "text": [
        "one             3\n",
        "bar             3\n",
        "flag         True\n",
        "foo           bar\n",
        "one_trunc     NaN\n",
        "Name: c"
       ]
      }
     ],
     "prompt_number": 51
    },
    {
     "cell_type": "markdown",
     "metadata": {},
     "source": [
      "\"Fatiar\" um dataframe por linhas retorna outro dataframe. "
     ]
    },
    {
     "cell_type": "code",
     "collapsed": false,
     "input": [
      "df[1:3]"
     ],
     "language": "python",
     "metadata": {},
     "outputs": [
      {
       "html": [
        "<div style=\"max-height:1000px;max-width:1500px;overflow:auto;\">\n",
        "<table border=\"1\">\n",
        "  <thead>\n",
        "    <tr>\n",
        "      <th></th>\n",
        "      <th>one</th>\n",
        "      <th>bar</th>\n",
        "      <th>flag</th>\n",
        "      <th>foo</th>\n",
        "      <th>one_trunc</th>\n",
        "    </tr>\n",
        "  </thead>\n",
        "  <tbody>\n",
        "    <tr>\n",
        "      <td><strong>b</strong></td>\n",
        "      <td> 2</td>\n",
        "      <td> 2</td>\n",
        "      <td> False</td>\n",
        "      <td> bar</td>\n",
        "      <td>  2</td>\n",
        "    </tr>\n",
        "    <tr>\n",
        "      <td><strong>c</strong></td>\n",
        "      <td> 3</td>\n",
        "      <td> 3</td>\n",
        "      <td>  True</td>\n",
        "      <td> bar</td>\n",
        "      <td>NaN</td>\n",
        "    </tr>\n",
        "  </tbody>\n",
        "</table>\n",
        "</div>"
       ],
       "output_type": "pyout",
       "prompt_number": 52,
       "text": [
        "   one  bar   flag  foo  one_trunc\n",
        "b    2    2  False  bar          2\n",
        "c    3    3   True  bar        NaN"
       ]
      }
     ],
     "prompt_number": 52
    },
    {
     "cell_type": "markdown",
     "metadata": {},
     "source": [
      "Linhas tamb\u00e9m podem ser selecionadas por um vetor booleano"
     ]
    },
    {
     "cell_type": "code",
     "collapsed": false,
     "input": [
      "df[df['flag']]"
     ],
     "language": "python",
     "metadata": {},
     "outputs": [
      {
       "html": [
        "<div style=\"max-height:1000px;max-width:1500px;overflow:auto;\">\n",
        "<table border=\"1\">\n",
        "  <thead>\n",
        "    <tr>\n",
        "      <th></th>\n",
        "      <th>one</th>\n",
        "      <th>bar</th>\n",
        "      <th>flag</th>\n",
        "      <th>foo</th>\n",
        "      <th>one_trunc</th>\n",
        "    </tr>\n",
        "  </thead>\n",
        "  <tbody>\n",
        "    <tr>\n",
        "      <td><strong>c</strong></td>\n",
        "      <td> 3</td>\n",
        "      <td> 3</td>\n",
        "      <td> True</td>\n",
        "      <td> bar</td>\n",
        "      <td>NaN</td>\n",
        "    </tr>\n",
        "  </tbody>\n",
        "</table>\n",
        "</div>"
       ],
       "output_type": "pyout",
       "prompt_number": 53,
       "text": [
        "   one  bar  flag  foo  one_trunc\n",
        "c    3    3  True  bar        NaN"
       ]
      }
     ],
     "prompt_number": 53
    },
    {
     "cell_type": "heading",
     "level": 3,
     "metadata": {},
     "source": [
      "Alinhamento de dados e aritm\u00e9tica"
     ]
    },
    {
     "cell_type": "markdown",
     "metadata": {},
     "source": [
      "Em opera\u00e7\u00f5es aritm\u00e9ticas, dataframes se alinham autom\u00e1ticamente tanto a n\u00edvel de linhas como de colunas de maneira a retorna a uni\u00e3o das duas estruturas."
     ]
    },
    {
     "cell_type": "code",
     "collapsed": false,
     "input": [
      "df = pd.DataFrame(randn(10, 4), columns=['A', 'B', 'C', 'D'])"
     ],
     "language": "python",
     "metadata": {},
     "outputs": [],
     "prompt_number": 54
    },
    {
     "cell_type": "code",
     "collapsed": false,
     "input": [
      "df2 = pd.DataFrame(randn(7, 3), columns=['A', 'B', 'C'])"
     ],
     "language": "python",
     "metadata": {},
     "outputs": [],
     "prompt_number": 55
    },
    {
     "cell_type": "code",
     "collapsed": false,
     "input": [
      "df + df2"
     ],
     "language": "python",
     "metadata": {},
     "outputs": [
      {
       "html": [
        "<div style=\"max-height:1000px;max-width:1500px;overflow:auto;\">\n",
        "<table border=\"1\">\n",
        "  <thead>\n",
        "    <tr>\n",
        "      <th></th>\n",
        "      <th>A</th>\n",
        "      <th>B</th>\n",
        "      <th>C</th>\n",
        "      <th>D</th>\n",
        "    </tr>\n",
        "  </thead>\n",
        "  <tbody>\n",
        "    <tr>\n",
        "      <td><strong>0</strong></td>\n",
        "      <td>-0.914145</td>\n",
        "      <td> 1.464540</td>\n",
        "      <td> 2.296520</td>\n",
        "      <td>NaN</td>\n",
        "    </tr>\n",
        "    <tr>\n",
        "      <td><strong>1</strong></td>\n",
        "      <td> 1.566437</td>\n",
        "      <td> 0.506005</td>\n",
        "      <td>-1.573906</td>\n",
        "      <td>NaN</td>\n",
        "    </tr>\n",
        "    <tr>\n",
        "      <td><strong>2</strong></td>\n",
        "      <td>-1.003990</td>\n",
        "      <td>-1.209261</td>\n",
        "      <td> 0.143267</td>\n",
        "      <td>NaN</td>\n",
        "    </tr>\n",
        "    <tr>\n",
        "      <td><strong>3</strong></td>\n",
        "      <td> 0.447857</td>\n",
        "      <td>-1.074047</td>\n",
        "      <td> 3.116692</td>\n",
        "      <td>NaN</td>\n",
        "    </tr>\n",
        "    <tr>\n",
        "      <td><strong>4</strong></td>\n",
        "      <td>-0.559939</td>\n",
        "      <td>-1.406701</td>\n",
        "      <td> 1.678316</td>\n",
        "      <td>NaN</td>\n",
        "    </tr>\n",
        "    <tr>\n",
        "      <td><strong>5</strong></td>\n",
        "      <td>-0.259353</td>\n",
        "      <td> 0.150027</td>\n",
        "      <td> 0.138438</td>\n",
        "      <td>NaN</td>\n",
        "    </tr>\n",
        "    <tr>\n",
        "      <td><strong>6</strong></td>\n",
        "      <td>-1.274523</td>\n",
        "      <td> 2.147881</td>\n",
        "      <td>-1.317534</td>\n",
        "      <td>NaN</td>\n",
        "    </tr>\n",
        "    <tr>\n",
        "      <td><strong>7</strong></td>\n",
        "      <td>      NaN</td>\n",
        "      <td>      NaN</td>\n",
        "      <td>      NaN</td>\n",
        "      <td>NaN</td>\n",
        "    </tr>\n",
        "    <tr>\n",
        "      <td><strong>8</strong></td>\n",
        "      <td>      NaN</td>\n",
        "      <td>      NaN</td>\n",
        "      <td>      NaN</td>\n",
        "      <td>NaN</td>\n",
        "    </tr>\n",
        "    <tr>\n",
        "      <td><strong>9</strong></td>\n",
        "      <td>      NaN</td>\n",
        "      <td>      NaN</td>\n",
        "      <td>      NaN</td>\n",
        "      <td>NaN</td>\n",
        "    </tr>\n",
        "  </tbody>\n",
        "</table>\n",
        "</div>"
       ],
       "output_type": "pyout",
       "prompt_number": 56,
       "text": [
        "          A         B         C   D\n",
        "0 -0.914145  1.464540  2.296520 NaN\n",
        "1  1.566437  0.506005 -1.573906 NaN\n",
        "2 -1.003990 -1.209261  0.143267 NaN\n",
        "3  0.447857 -1.074047  3.116692 NaN\n",
        "4 -0.559939 -1.406701  1.678316 NaN\n",
        "5 -0.259353  0.150027  0.138438 NaN\n",
        "6 -1.274523  2.147881 -1.317534 NaN\n",
        "7       NaN       NaN       NaN NaN\n",
        "8       NaN       NaN       NaN NaN\n",
        "9       NaN       NaN       NaN NaN"
       ]
      }
     ],
     "prompt_number": 56
    },
    {
     "cell_type": "markdown",
     "metadata": {},
     "source": [
      "Em opera\u00e7\u00f5es entre Dataframes e S\u00e9ries, ocorre o \"broadcast\": os \u00edndices da s\u00e9rie \u00e9 alinhado com as colunas e o \"brodcasting\" se d\u00e1 ao longo das linhas. Este \u00e9 o comportamento default."
     ]
    },
    {
     "cell_type": "code",
     "collapsed": false,
     "input": [
      "df - df.ix[0]"
     ],
     "language": "python",
     "metadata": {},
     "outputs": [
      {
       "html": [
        "<div style=\"max-height:1000px;max-width:1500px;overflow:auto;\">\n",
        "<table border=\"1\">\n",
        "  <thead>\n",
        "    <tr>\n",
        "      <th></th>\n",
        "      <th>A</th>\n",
        "      <th>B</th>\n",
        "      <th>C</th>\n",
        "      <th>D</th>\n",
        "    </tr>\n",
        "  </thead>\n",
        "  <tbody>\n",
        "    <tr>\n",
        "      <td><strong>0</strong></td>\n",
        "      <td> 0.000000</td>\n",
        "      <td> 0.000000</td>\n",
        "      <td> 0.000000</td>\n",
        "      <td> 0.000000</td>\n",
        "    </tr>\n",
        "    <tr>\n",
        "      <td><strong>1</strong></td>\n",
        "      <td> 0.441721</td>\n",
        "      <td>-0.562791</td>\n",
        "      <td>-0.414428</td>\n",
        "      <td> 0.431343</td>\n",
        "    </tr>\n",
        "    <tr>\n",
        "      <td><strong>2</strong></td>\n",
        "      <td> 0.392947</td>\n",
        "      <td>-0.463910</td>\n",
        "      <td>-1.054746</td>\n",
        "      <td> 0.016306</td>\n",
        "    </tr>\n",
        "    <tr>\n",
        "      <td><strong>3</strong></td>\n",
        "      <td> 0.378516</td>\n",
        "      <td>-0.318450</td>\n",
        "      <td> 1.240267</td>\n",
        "      <td>-0.549037</td>\n",
        "    </tr>\n",
        "    <tr>\n",
        "      <td><strong>4</strong></td>\n",
        "      <td>-0.022209</td>\n",
        "      <td>-1.008155</td>\n",
        "      <td>-0.159618</td>\n",
        "      <td> 1.512219</td>\n",
        "    </tr>\n",
        "    <tr>\n",
        "      <td><strong>5</strong></td>\n",
        "      <td>-1.096742</td>\n",
        "      <td>-0.538504</td>\n",
        "      <td>-1.558966</td>\n",
        "      <td> 0.384198</td>\n",
        "    </tr>\n",
        "    <tr>\n",
        "      <td><strong>6</strong></td>\n",
        "      <td>-0.703844</td>\n",
        "      <td> 0.336523</td>\n",
        "      <td>-2.768921</td>\n",
        "      <td>-0.973912</td>\n",
        "    </tr>\n",
        "    <tr>\n",
        "      <td><strong>7</strong></td>\n",
        "      <td> 0.970590</td>\n",
        "      <td>-1.380152</td>\n",
        "      <td>-1.717057</td>\n",
        "      <td>-0.159493</td>\n",
        "    </tr>\n",
        "    <tr>\n",
        "      <td><strong>8</strong></td>\n",
        "      <td> 0.868102</td>\n",
        "      <td> 0.929013</td>\n",
        "      <td> 1.534030</td>\n",
        "      <td> 0.014049</td>\n",
        "    </tr>\n",
        "    <tr>\n",
        "      <td><strong>9</strong></td>\n",
        "      <td>-0.328224</td>\n",
        "      <td>-0.393785</td>\n",
        "      <td>-1.572860</td>\n",
        "      <td>-0.843186</td>\n",
        "    </tr>\n",
        "  </tbody>\n",
        "</table>\n",
        "</div>"
       ],
       "output_type": "pyout",
       "prompt_number": 57,
       "text": [
        "          A         B         C         D\n",
        "0  0.000000  0.000000  0.000000  0.000000\n",
        "1  0.441721 -0.562791 -0.414428  0.431343\n",
        "2  0.392947 -0.463910 -1.054746  0.016306\n",
        "3  0.378516 -0.318450  1.240267 -0.549037\n",
        "4 -0.022209 -1.008155 -0.159618  1.512219\n",
        "5 -1.096742 -0.538504 -1.558966  0.384198\n",
        "6 -0.703844  0.336523 -2.768921 -0.973912\n",
        "7  0.970590 -1.380152 -1.717057 -0.159493\n",
        "8  0.868102  0.929013  1.534030  0.014049\n",
        "9 -0.328224 -0.393785 -1.572860 -0.843186"
       ]
      }
     ],
     "prompt_number": 57
    },
    {
     "cell_type": "markdown",
     "metadata": {},
     "source": [
      "No caso especial de s\u00e9ries temporais (quando o \u00edndice cont\u00e9m objetos *datetime*) e o \u00edndice do dataframe tamb\u00e9m cont\u00e9m datas, o broadcasting ser\u00e1 feito ao longo das colunas."
     ]
    },
    {
     "cell_type": "code",
     "collapsed": false,
     "input": [
      "index = pd.date_range('1/1/2000', periods=8)"
     ],
     "language": "python",
     "metadata": {},
     "outputs": [],
     "prompt_number": 58
    },
    {
     "cell_type": "code",
     "collapsed": false,
     "input": [
      "df = pd.DataFrame(randn(8, 3), index=index,\n",
      "               columns=['A', 'B', 'C'])"
     ],
     "language": "python",
     "metadata": {},
     "outputs": [],
     "prompt_number": 59
    },
    {
     "cell_type": "code",
     "collapsed": false,
     "input": [
      "df"
     ],
     "language": "python",
     "metadata": {},
     "outputs": [
      {
       "html": [
        "<div style=\"max-height:1000px;max-width:1500px;overflow:auto;\">\n",
        "<table border=\"1\">\n",
        "  <thead>\n",
        "    <tr>\n",
        "      <th></th>\n",
        "      <th>A</th>\n",
        "      <th>B</th>\n",
        "      <th>C</th>\n",
        "    </tr>\n",
        "  </thead>\n",
        "  <tbody>\n",
        "    <tr>\n",
        "      <td><strong>2000-01-01 00:00:00</strong></td>\n",
        "      <td> 0.004968</td>\n",
        "      <td> 0.108624</td>\n",
        "      <td>-0.551787</td>\n",
        "    </tr>\n",
        "    <tr>\n",
        "      <td><strong>2000-01-02 00:00:00</strong></td>\n",
        "      <td>-1.616891</td>\n",
        "      <td>-0.625282</td>\n",
        "      <td> 0.653533</td>\n",
        "    </tr>\n",
        "    <tr>\n",
        "      <td><strong>2000-01-03 00:00:00</strong></td>\n",
        "      <td> 0.342237</td>\n",
        "      <td>-0.056644</td>\n",
        "      <td> 0.972962</td>\n",
        "    </tr>\n",
        "    <tr>\n",
        "      <td><strong>2000-01-04 00:00:00</strong></td>\n",
        "      <td> 0.099213</td>\n",
        "      <td> 0.215265</td>\n",
        "      <td>-0.705709</td>\n",
        "    </tr>\n",
        "    <tr>\n",
        "      <td><strong>2000-01-05 00:00:00</strong></td>\n",
        "      <td> 1.105394</td>\n",
        "      <td> 0.666618</td>\n",
        "      <td>-0.572590</td>\n",
        "    </tr>\n",
        "    <tr>\n",
        "      <td><strong>2000-01-06 00:00:00</strong></td>\n",
        "      <td> 0.558360</td>\n",
        "      <td> 0.517692</td>\n",
        "      <td>-1.173795</td>\n",
        "    </tr>\n",
        "    <tr>\n",
        "      <td><strong>2000-01-07 00:00:00</strong></td>\n",
        "      <td>-0.639060</td>\n",
        "      <td> 0.364742</td>\n",
        "      <td>-0.211327</td>\n",
        "    </tr>\n",
        "    <tr>\n",
        "      <td><strong>2000-01-08 00:00:00</strong></td>\n",
        "      <td> 0.386820</td>\n",
        "      <td>-0.547875</td>\n",
        "      <td> 0.455371</td>\n",
        "    </tr>\n",
        "  </tbody>\n",
        "</table>\n",
        "</div>"
       ],
       "output_type": "pyout",
       "prompt_number": 60,
       "text": [
        "                   A         B         C\n",
        "2000-01-01  0.004968  0.108624 -0.551787\n",
        "2000-01-02 -1.616891 -0.625282  0.653533\n",
        "2000-01-03  0.342237 -0.056644  0.972962\n",
        "2000-01-04  0.099213  0.215265 -0.705709\n",
        "2000-01-05  1.105394  0.666618 -0.572590\n",
        "2000-01-06  0.558360  0.517692 -1.173795\n",
        "2000-01-07 -0.639060  0.364742 -0.211327\n",
        "2000-01-08  0.386820 -0.547875  0.455371"
       ]
      }
     ],
     "prompt_number": 60
    },
    {
     "cell_type": "code",
     "collapsed": false,
     "input": [
      "type(df['A'])"
     ],
     "language": "python",
     "metadata": {},
     "outputs": [
      {
       "output_type": "pyout",
       "prompt_number": 61,
       "text": [
        "pandas.core.series.TimeSeries"
       ]
      }
     ],
     "prompt_number": 61
    },
    {
     "cell_type": "code",
     "collapsed": false,
     "input": [
      "df - df['A']"
     ],
     "language": "python",
     "metadata": {},
     "outputs": [
      {
       "html": [
        "<div style=\"max-height:1000px;max-width:1500px;overflow:auto;\">\n",
        "<table border=\"1\">\n",
        "  <thead>\n",
        "    <tr>\n",
        "      <th></th>\n",
        "      <th>A</th>\n",
        "      <th>B</th>\n",
        "      <th>C</th>\n",
        "    </tr>\n",
        "  </thead>\n",
        "  <tbody>\n",
        "    <tr>\n",
        "      <td><strong>2000-01-01 00:00:00</strong></td>\n",
        "      <td> 0</td>\n",
        "      <td> 0.103656</td>\n",
        "      <td>-0.556755</td>\n",
        "    </tr>\n",
        "    <tr>\n",
        "      <td><strong>2000-01-02 00:00:00</strong></td>\n",
        "      <td> 0</td>\n",
        "      <td> 0.991610</td>\n",
        "      <td> 2.270425</td>\n",
        "    </tr>\n",
        "    <tr>\n",
        "      <td><strong>2000-01-03 00:00:00</strong></td>\n",
        "      <td> 0</td>\n",
        "      <td>-0.398881</td>\n",
        "      <td> 0.630725</td>\n",
        "    </tr>\n",
        "    <tr>\n",
        "      <td><strong>2000-01-04 00:00:00</strong></td>\n",
        "      <td> 0</td>\n",
        "      <td> 0.116052</td>\n",
        "      <td>-0.804922</td>\n",
        "    </tr>\n",
        "    <tr>\n",
        "      <td><strong>2000-01-05 00:00:00</strong></td>\n",
        "      <td> 0</td>\n",
        "      <td>-0.438776</td>\n",
        "      <td>-1.677984</td>\n",
        "    </tr>\n",
        "    <tr>\n",
        "      <td><strong>2000-01-06 00:00:00</strong></td>\n",
        "      <td> 0</td>\n",
        "      <td>-0.040668</td>\n",
        "      <td>-1.732155</td>\n",
        "    </tr>\n",
        "    <tr>\n",
        "      <td><strong>2000-01-07 00:00:00</strong></td>\n",
        "      <td> 0</td>\n",
        "      <td> 1.003803</td>\n",
        "      <td> 0.427733</td>\n",
        "    </tr>\n",
        "    <tr>\n",
        "      <td><strong>2000-01-08 00:00:00</strong></td>\n",
        "      <td> 0</td>\n",
        "      <td>-0.934694</td>\n",
        "      <td> 0.068552</td>\n",
        "    </tr>\n",
        "  </tbody>\n",
        "</table>\n",
        "</div>"
       ],
       "output_type": "pyout",
       "prompt_number": 62,
       "text": [
        "            A         B         C\n",
        "2000-01-01  0  0.103656 -0.556755\n",
        "2000-01-02  0  0.991610  2.270425\n",
        "2000-01-03  0 -0.398881  0.630725\n",
        "2000-01-04  0  0.116052 -0.804922\n",
        "2000-01-05  0 -0.438776 -1.677984\n",
        "2000-01-06  0 -0.040668 -1.732155\n",
        "2000-01-07  0  1.003803  0.427733\n",
        "2000-01-08  0 -0.934694  0.068552"
       ]
      }
     ],
     "prompt_number": 62
    },
    {
     "cell_type": "markdown",
     "metadata": {},
     "source": [
      "Opera\u00e7\u00f5es com escalares funcionam normalmente:"
     ]
    },
    {
     "cell_type": "code",
     "collapsed": false,
     "input": [
      "df * 5 + 2"
     ],
     "language": "python",
     "metadata": {},
     "outputs": [
      {
       "html": [
        "<div style=\"max-height:1000px;max-width:1500px;overflow:auto;\">\n",
        "<table border=\"1\">\n",
        "  <thead>\n",
        "    <tr>\n",
        "      <th></th>\n",
        "      <th>A</th>\n",
        "      <th>B</th>\n",
        "      <th>C</th>\n",
        "    </tr>\n",
        "  </thead>\n",
        "  <tbody>\n",
        "    <tr>\n",
        "      <td><strong>2000-01-01 00:00:00</strong></td>\n",
        "      <td> 2.024840</td>\n",
        "      <td> 2.543119</td>\n",
        "      <td>-0.758937</td>\n",
        "    </tr>\n",
        "    <tr>\n",
        "      <td><strong>2000-01-02 00:00:00</strong></td>\n",
        "      <td>-6.084457</td>\n",
        "      <td>-1.126410</td>\n",
        "      <td> 5.267666</td>\n",
        "    </tr>\n",
        "    <tr>\n",
        "      <td><strong>2000-01-03 00:00:00</strong></td>\n",
        "      <td> 3.711184</td>\n",
        "      <td> 1.716779</td>\n",
        "      <td> 6.864808</td>\n",
        "    </tr>\n",
        "    <tr>\n",
        "      <td><strong>2000-01-04 00:00:00</strong></td>\n",
        "      <td> 2.496065</td>\n",
        "      <td> 3.076323</td>\n",
        "      <td>-1.528544</td>\n",
        "    </tr>\n",
        "    <tr>\n",
        "      <td><strong>2000-01-05 00:00:00</strong></td>\n",
        "      <td> 7.526971</td>\n",
        "      <td> 5.333091</td>\n",
        "      <td>-0.862950</td>\n",
        "    </tr>\n",
        "    <tr>\n",
        "      <td><strong>2000-01-06 00:00:00</strong></td>\n",
        "      <td> 4.791801</td>\n",
        "      <td> 4.588461</td>\n",
        "      <td>-3.868975</td>\n",
        "    </tr>\n",
        "    <tr>\n",
        "      <td><strong>2000-01-07 00:00:00</strong></td>\n",
        "      <td>-1.195302</td>\n",
        "      <td> 3.823712</td>\n",
        "      <td> 0.943365</td>\n",
        "    </tr>\n",
        "    <tr>\n",
        "      <td><strong>2000-01-08 00:00:00</strong></td>\n",
        "      <td> 3.934098</td>\n",
        "      <td>-0.739373</td>\n",
        "      <td> 4.276855</td>\n",
        "    </tr>\n",
        "  </tbody>\n",
        "</table>\n",
        "</div>"
       ],
       "output_type": "pyout",
       "prompt_number": 63,
       "text": [
        "                   A         B         C\n",
        "2000-01-01  2.024840  2.543119 -0.758937\n",
        "2000-01-02 -6.084457 -1.126410  5.267666\n",
        "2000-01-03  3.711184  1.716779  6.864808\n",
        "2000-01-04  2.496065  3.076323 -1.528544\n",
        "2000-01-05  7.526971  5.333091 -0.862950\n",
        "2000-01-06  4.791801  4.588461 -3.868975\n",
        "2000-01-07 -1.195302  3.823712  0.943365\n",
        "2000-01-08  3.934098 -0.739373  4.276855"
       ]
      }
     ],
     "prompt_number": 63
    },
    {
     "cell_type": "markdown",
     "metadata": {},
     "source": [
      "Opera\u00e7\u00f5es com Booleanos tamb\u00e9m s\u00e3o poss\u00edveis."
     ]
    },
    {
     "cell_type": "code",
     "collapsed": false,
     "input": [
      "df1 = pd.DataFrame({'a' : [1, 0, 1], 'b' : [0, 1, 1] }, dtype=bool)"
     ],
     "language": "python",
     "metadata": {},
     "outputs": [],
     "prompt_number": 64
    },
    {
     "cell_type": "code",
     "collapsed": false,
     "input": [
      "df2 = pd.DataFrame({'a' : [0, 1, 1], 'b' : [1, 1, 0] }, dtype=bool)"
     ],
     "language": "python",
     "metadata": {},
     "outputs": [],
     "prompt_number": 65
    },
    {
     "cell_type": "code",
     "collapsed": false,
     "input": [
      "print df1\n",
      "print df2"
     ],
     "language": "python",
     "metadata": {},
     "outputs": [
      {
       "output_type": "stream",
       "stream": "stdout",
       "text": [
        "       a      b\n",
        "0   True  False\n",
        "1  False   True\n",
        "2   True   True\n",
        "       a      b\n",
        "0  False   True\n",
        "1   True   True\n",
        "2   True  False\n"
       ]
      }
     ],
     "prompt_number": 66
    },
    {
     "cell_type": "code",
     "collapsed": false,
     "input": [
      "df1 & df2 #opera\u00e7\u00e3o AND"
     ],
     "language": "python",
     "metadata": {},
     "outputs": [
      {
       "html": [
        "<div style=\"max-height:1000px;max-width:1500px;overflow:auto;\">\n",
        "<table border=\"1\">\n",
        "  <thead>\n",
        "    <tr>\n",
        "      <th></th>\n",
        "      <th>a</th>\n",
        "      <th>b</th>\n",
        "    </tr>\n",
        "  </thead>\n",
        "  <tbody>\n",
        "    <tr>\n",
        "      <td><strong>0</strong></td>\n",
        "      <td> False</td>\n",
        "      <td> False</td>\n",
        "    </tr>\n",
        "    <tr>\n",
        "      <td><strong>1</strong></td>\n",
        "      <td> False</td>\n",
        "      <td>  True</td>\n",
        "    </tr>\n",
        "    <tr>\n",
        "      <td><strong>2</strong></td>\n",
        "      <td>  True</td>\n",
        "      <td> False</td>\n",
        "    </tr>\n",
        "  </tbody>\n",
        "</table>\n",
        "</div>"
       ],
       "output_type": "pyout",
       "prompt_number": 67,
       "text": [
        "       a      b\n",
        "0  False  False\n",
        "1  False   True\n",
        "2   True  False"
       ]
      }
     ],
     "prompt_number": 67
    },
    {
     "cell_type": "code",
     "collapsed": false,
     "input": [
      "df1 | df2 #Opera\u00e7\u00e3o OR"
     ],
     "language": "python",
     "metadata": {},
     "outputs": [
      {
       "html": [
        "<div style=\"max-height:1000px;max-width:1500px;overflow:auto;\">\n",
        "<table border=\"1\">\n",
        "  <thead>\n",
        "    <tr>\n",
        "      <th></th>\n",
        "      <th>a</th>\n",
        "      <th>b</th>\n",
        "    </tr>\n",
        "  </thead>\n",
        "  <tbody>\n",
        "    <tr>\n",
        "      <td><strong>0</strong></td>\n",
        "      <td> True</td>\n",
        "      <td> True</td>\n",
        "    </tr>\n",
        "    <tr>\n",
        "      <td><strong>1</strong></td>\n",
        "      <td> True</td>\n",
        "      <td> True</td>\n",
        "    </tr>\n",
        "    <tr>\n",
        "      <td><strong>2</strong></td>\n",
        "      <td> True</td>\n",
        "      <td> True</td>\n",
        "    </tr>\n",
        "  </tbody>\n",
        "</table>\n",
        "</div>"
       ],
       "output_type": "pyout",
       "prompt_number": 68,
       "text": [
        "      a     b\n",
        "0  True  True\n",
        "1  True  True\n",
        "2  True  True"
       ]
      }
     ],
     "prompt_number": 68
    },
    {
     "cell_type": "code",
     "collapsed": false,
     "input": [
      "df1 ^ df2 #Opera\u00e7\u00e3o XOR"
     ],
     "language": "python",
     "metadata": {},
     "outputs": [
      {
       "html": [
        "<div style=\"max-height:1000px;max-width:1500px;overflow:auto;\">\n",
        "<table border=\"1\">\n",
        "  <thead>\n",
        "    <tr>\n",
        "      <th></th>\n",
        "      <th>a</th>\n",
        "      <th>b</th>\n",
        "    </tr>\n",
        "  </thead>\n",
        "  <tbody>\n",
        "    <tr>\n",
        "      <td><strong>0</strong></td>\n",
        "      <td>  True</td>\n",
        "      <td>  True</td>\n",
        "    </tr>\n",
        "    <tr>\n",
        "      <td><strong>1</strong></td>\n",
        "      <td>  True</td>\n",
        "      <td> False</td>\n",
        "    </tr>\n",
        "    <tr>\n",
        "      <td><strong>2</strong></td>\n",
        "      <td> False</td>\n",
        "      <td>  True</td>\n",
        "    </tr>\n",
        "  </tbody>\n",
        "</table>\n",
        "</div>"
       ],
       "output_type": "pyout",
       "prompt_number": 69,
       "text": [
        "       a      b\n",
        "0   True   True\n",
        "1   True  False\n",
        "2  False   True"
       ]
      }
     ],
     "prompt_number": 69
    },
    {
     "cell_type": "code",
     "collapsed": false,
     "input": [
      "-df1 # Opera\u00e7\u00e3o NOT"
     ],
     "language": "python",
     "metadata": {},
     "outputs": [
      {
       "html": [
        "<div style=\"max-height:1000px;max-width:1500px;overflow:auto;\">\n",
        "<table border=\"1\">\n",
        "  <thead>\n",
        "    <tr>\n",
        "      <th></th>\n",
        "      <th>a</th>\n",
        "      <th>b</th>\n",
        "    </tr>\n",
        "  </thead>\n",
        "  <tbody>\n",
        "    <tr>\n",
        "      <td><strong>0</strong></td>\n",
        "      <td> False</td>\n",
        "      <td>  True</td>\n",
        "    </tr>\n",
        "    <tr>\n",
        "      <td><strong>1</strong></td>\n",
        "      <td>  True</td>\n",
        "      <td> False</td>\n",
        "    </tr>\n",
        "    <tr>\n",
        "      <td><strong>2</strong></td>\n",
        "      <td> False</td>\n",
        "      <td> False</td>\n",
        "    </tr>\n",
        "  </tbody>\n",
        "</table>\n",
        "</div>"
       ],
       "output_type": "pyout",
       "prompt_number": 70,
       "text": [
        "       a      b\n",
        "0  False   True\n",
        "1   True  False\n",
        "2  False  False"
       ]
      }
     ],
     "prompt_number": 70
    },
    {
     "cell_type": "markdown",
     "metadata": {},
     "source": [
      "O dataframe possui um m\u00e9todo que sumariza as var\u00e1veis para uma inspe\u00e7\u00e3o r\u00e1pida. "
     ]
    },
    {
     "cell_type": "code",
     "collapsed": false,
     "input": [
      "df.describe()"
     ],
     "language": "python",
     "metadata": {},
     "outputs": [
      {
       "html": [
        "<div style=\"max-height:1000px;max-width:1500px;overflow:auto;\">\n",
        "<table border=\"1\">\n",
        "  <thead>\n",
        "    <tr>\n",
        "      <th></th>\n",
        "      <th>A</th>\n",
        "      <th>B</th>\n",
        "      <th>C</th>\n",
        "    </tr>\n",
        "  </thead>\n",
        "  <tbody>\n",
        "    <tr>\n",
        "      <td><strong>count</strong></td>\n",
        "      <td> 8.000000</td>\n",
        "      <td> 8.000000</td>\n",
        "      <td> 8.000000</td>\n",
        "    </tr>\n",
        "    <tr>\n",
        "      <td><strong>mean</strong></td>\n",
        "      <td> 0.030130</td>\n",
        "      <td> 0.080393</td>\n",
        "      <td>-0.141668</td>\n",
        "    </tr>\n",
        "    <tr>\n",
        "      <td><strong>std</strong></td>\n",
        "      <td> 0.830298</td>\n",
        "      <td> 0.469986</td>\n",
        "      <td> 0.753409</td>\n",
        "    </tr>\n",
        "    <tr>\n",
        "      <td><strong>min</strong></td>\n",
        "      <td>-1.616891</td>\n",
        "      <td>-0.625282</td>\n",
        "      <td>-1.173795</td>\n",
        "    </tr>\n",
        "    <tr>\n",
        "      <td><strong>25%</strong></td>\n",
        "      <td>-0.156039</td>\n",
        "      <td>-0.179452</td>\n",
        "      <td>-0.605870</td>\n",
        "    </tr>\n",
        "    <tr>\n",
        "      <td><strong>50%</strong></td>\n",
        "      <td> 0.220725</td>\n",
        "      <td> 0.161944</td>\n",
        "      <td>-0.381557</td>\n",
        "    </tr>\n",
        "    <tr>\n",
        "      <td><strong>75%</strong></td>\n",
        "      <td> 0.429705</td>\n",
        "      <td> 0.402980</td>\n",
        "      <td> 0.504912</td>\n",
        "    </tr>\n",
        "    <tr>\n",
        "      <td><strong>max</strong></td>\n",
        "      <td> 1.105394</td>\n",
        "      <td> 0.666618</td>\n",
        "      <td> 0.972962</td>\n",
        "    </tr>\n",
        "  </tbody>\n",
        "</table>\n",
        "</div>"
       ],
       "output_type": "pyout",
       "prompt_number": 72,
       "text": [
        "              A         B         C\n",
        "count  8.000000  8.000000  8.000000\n",
        "mean   0.030130  0.080393 -0.141668\n",
        "std    0.830298  0.469986  0.753409\n",
        "min   -1.616891 -0.625282 -1.173795\n",
        "25%   -0.156039 -0.179452 -0.605870\n",
        "50%    0.220725  0.161944 -0.381557\n",
        "75%    0.429705  0.402980  0.504912\n",
        "max    1.105394  0.666618  0.972962"
       ]
      }
     ],
     "prompt_number": 72
    },
    {
     "cell_type": "code",
     "collapsed": false,
     "input": [],
     "language": "python",
     "metadata": {},
     "outputs": []
    }
   ],
   "metadata": {}
  }
 ]
}